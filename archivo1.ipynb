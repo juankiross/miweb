{
 "cells": [
  {
   "cell_type": "code",
   "execution_count": 1,
   "metadata": {},
   "outputs": [
    {
     "name": "stdout",
     "output_type": "stream",
     "text": [
      "j es consonante\n",
      "o es vocal\n",
      "s es consonante\n",
      "e es vocal\n",
      "  es un espacio\n",
      "a es vocal\n",
      "n es consonante\n",
      "t es consonante\n",
      "o es vocal\n",
      "n es consonante\n",
      "i es vocal\n",
      "o es vocal\n"
     ]
    }
   ],
   "source": [
    "vocales=['a','e','i','o','u']\n",
    "palabra=str(input('inserte palabra'))\n",
    "for i in palabra:\n",
    "    if i in vocales:\n",
    "        print(i, 'es vocal')\n",
    "    else:\n",
    "        print(i, 'es consonante')"
   ]
  }
 ],
 "metadata": {
  "kernelspec": {
   "display_name": "Python 3.9.6 64-bit",
   "language": "python",
   "name": "python3"
  },
  "language_info": {
   "codemirror_mode": {
    "name": "ipython",
    "version": 3
   },
   "file_extension": ".py",
   "mimetype": "text/x-python",
   "name": "python",
   "nbconvert_exporter": "python",
   "pygments_lexer": "ipython3",
   "version": "3.9.6"
  },
  "orig_nbformat": 4,
  "vscode": {
   "interpreter": {
    "hash": "8b2679bc2b1602cd0fc52ea67b2cf277adc1ca283f62fc0525d8b4d9fc028cc7"
   }
  }
 },
 "nbformat": 4,
 "nbformat_minor": 2
}
